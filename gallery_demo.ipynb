{
 "cells": [
  {
   "cell_type": "code",
   "execution_count": 1,
   "metadata": {},
   "outputs": [
    {
     "name": "stdout",
     "output_type": "stream",
     "text": [
      "Welcome to JupyROOT 6.12/06\n",
      "Preparing before event loop...\n",
      "Creating event object ...\n",
      "Entering event loop...\n",
      "Writing histograms...\n"
     ]
    },
    {
     "data": {
      "text/plain": [
       "320"
      ]
     },
     "execution_count": 1,
     "metadata": {},
     "output_type": "execute_result"
    }
   ],
   "source": [
    "import os, sys\n",
    "sys.path.append(\"common/\")\n",
    "\n",
    "from gallery_tools import *\n",
    "\n",
    "print \"Preparing before event loop...\"\n",
    "mctruths_tag = art.InputTag(\"generator\");\n",
    "filename = \"/Users/wketchum/ICARUS_Data/corsika_sample_icarus_Sep18.root\"\n",
    "filenames = ROOT.vector(ROOT.string)(1,filename)\n",
    "\n",
    "# Make histograms before we open the art/ROOT file, or the file ends\n",
    "# up owning the histograms.\n",
    "histfile = ROOT.TFile(\"hist.root\", \"RECREATE\")\n",
    "npart_hist = ROOT.TH1F(\"npart\", \"Number of particles per MCTruth\", 51, -0.5, 50.5)\n",
    "\n",
    "print \"Creating event object ...\"\n",
    "ev = gallery.Event(filenames)\n",
    "\n",
    "# Capture the functions that will get ValidHandles. This avoids some\n",
    "# inefficiency in constructing the function objects many times.\n",
    "get_mctruths = ev.getValidHandle(ROOT.vector(simb.MCTruth))\n",
    "\n",
    "print \"Entering event loop...\"\n",
    "while (not ev.atEnd()) :\n",
    "        mctruths = get_mctruths(mctruths_tag)\n",
    "        if (not mctruths.empty()):\n",
    "                npart_hist.Fill(mctruths.product()[0].NParticles())\n",
    "\n",
    "        # The Assns<> involved in demo.cc appears to be inaccessible\n",
    "        # from PyROOT at this time, because of PyROOT's incomplete\n",
    "        # object model.\n",
    "        ev.next()\n",
    "\n",
    "print \"Writing histograms...\"\n",
    "histfile.Write()"
   ]
  },
  {
   "cell_type": "code",
   "execution_count": null,
   "metadata": {},
   "outputs": [],
   "source": []
  }
 ],
 "metadata": {
  "kernelspec": {
   "display_name": "Python 2",
   "language": "python",
   "name": "python2"
  },
  "language_info": {
   "codemirror_mode": {
    "name": "ipython",
    "version": 2
   },
   "file_extension": ".py",
   "mimetype": "text/x-python",
   "name": "python",
   "nbconvert_exporter": "python",
   "pygments_lexer": "ipython2",
   "version": "2.7.14"
  }
 },
 "nbformat": 4,
 "nbformat_minor": 2
}
