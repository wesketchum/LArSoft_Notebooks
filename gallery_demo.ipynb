{
 "cells": [
  {
   "cell_type": "code",
   "execution_count": 1,
   "metadata": {},
   "outputs": [
    {
     "name": "stdout",
     "output_type": "stream",
     "text": [
      "Welcome to JupyROOT 6.12/06\n",
      "Preparing before event loop...\n",
      "Creating event object ...\n",
      "Entering event loop...\n"
     ]
    },
    {
     "ename": "SystemError",
     "evalue": "int TTree::Fill() =>\n    problem in C++; program state has been reset",
     "output_type": "error",
     "traceback": [
      "\u001b[0;31m---------------------------------------------------------------------------\u001b[0m",
      "\u001b[0;31mSystemError\u001b[0m                               Traceback (most recent call last)",
      "\u001b[0;32m<ipython-input-1-003b33451e62>\u001b[0m in \u001b[0;36m<module>\u001b[0;34m()\u001b[0m\n\u001b[1;32m     50\u001b[0m         \u001b[0morigin\u001b[0m\u001b[0;34m[\u001b[0m\u001b[0;36m0\u001b[0m\u001b[0;34m]\u001b[0m \u001b[0;34m=\u001b[0m \u001b[0mmctruths\u001b[0m\u001b[0;34m.\u001b[0m\u001b[0mproduct\u001b[0m\u001b[0;34m(\u001b[0m\u001b[0;34m)\u001b[0m\u001b[0;34m[\u001b[0m\u001b[0;36m0\u001b[0m\u001b[0;34m]\u001b[0m\u001b[0;34m.\u001b[0m\u001b[0mOrigin\u001b[0m\u001b[0;34m(\u001b[0m\u001b[0;34m)\u001b[0m\u001b[0;34m\u001b[0m\u001b[0m\n\u001b[1;32m     51\u001b[0m         \u001b[0mvtx\u001b[0m \u001b[0;34m=\u001b[0m \u001b[0mmctruths\u001b[0m\u001b[0;34m.\u001b[0m\u001b[0mproduct\u001b[0m\u001b[0;34m(\u001b[0m\u001b[0;34m)\u001b[0m\u001b[0;34m[\u001b[0m\u001b[0;36m0\u001b[0m\u001b[0;34m]\u001b[0m\u001b[0;34m.\u001b[0m\u001b[0mGetNeutrino\u001b[0m\u001b[0;34m(\u001b[0m\u001b[0;34m)\u001b[0m\u001b[0;34m.\u001b[0m\u001b[0mNu\u001b[0m\u001b[0;34m(\u001b[0m\u001b[0;34m)\u001b[0m\u001b[0;34m.\u001b[0m\u001b[0mPosition\u001b[0m\u001b[0;34m(\u001b[0m\u001b[0;34m)\u001b[0m\u001b[0;34m\u001b[0m\u001b[0m\n\u001b[0;32m---> 52\u001b[0;31m         \u001b[0mmctruth_tree\u001b[0m\u001b[0;34m.\u001b[0m\u001b[0mFill\u001b[0m\u001b[0;34m(\u001b[0m\u001b[0;34m)\u001b[0m\u001b[0;34m\u001b[0m\u001b[0m\n\u001b[0m\u001b[1;32m     53\u001b[0m \u001b[0;34m\u001b[0m\u001b[0m\n\u001b[1;32m     54\u001b[0m     \u001b[0mev\u001b[0m\u001b[0;34m.\u001b[0m\u001b[0mnext\u001b[0m\u001b[0;34m(\u001b[0m\u001b[0;34m)\u001b[0m\u001b[0;34m\u001b[0m\u001b[0m\n",
      "\u001b[0;31mSystemError\u001b[0m: int TTree::Fill() =>\n    problem in C++; program state has been reset"
     ]
    }
   ],
   "source": [
    "import os, sys\n",
    "sys.path.append(\"common/\")\n",
    "\n",
    "from gallery_tools import *\n",
    "\n",
    "print \"Preparing before event loop...\"\n",
    "mctruths_tag = art.InputTag(\"generator\");\n",
    "filename = \"/Users/wketchum/MicroBooNE_Data/genie_studies/genie_uboone_10k.root\"\n",
    "filenames = ROOT.vector(ROOT.string)(1,filename)\n",
    "\n",
    "# Make histograms before we open the art/ROOT file, or the file ends\n",
    "# up owning the histograms.\n",
    "histfile = ROOT.TFile(\"hist.root\", \"RECREATE\")\n",
    "npart_hist = ROOT.TH1F(\"npart\", \"Number of particles per MCTruth\", 51, -0.5, 50.5)\n",
    "\n",
    "\n",
    "run = array('I',[ 0 ])\n",
    "event = array('I',[ 0 ])\n",
    "index = array('I',[ 0 ])\n",
    "n_particle = array('i',[-1])\n",
    "origin = array('i',[-1])\n",
    "vtx = ROOT.TLorentzVector()\n",
    "\n",
    "mctruth_tree = ROOT.TTree(\"mctruth_tree\",\"\")\n",
    "mctruth_tree.Branch('run',run,\"run/i\")\n",
    "mctruth_tree.Branch('event',event,\"event/i\")\n",
    "mctruth_tree.Branch('index',index,\"index/i\")\n",
    "mctruth_tree.Branch('n_particle',n_particle,\"n_particle/I\")\n",
    "mctruth_tree.Branch('origin',origin,\"origin/I\")\n",
    "mctruth_tree.Branch('vtx',\"TLorentzVector\",ROOT.AddressOf(vtx))\n",
    "\n",
    "print \"Creating event object ...\"\n",
    "ev = gallery.Event(filenames)\n",
    "\n",
    "# Capture the functions that will get ValidHandles. This avoids some\n",
    "# inefficiency in constructing the function objects many times.\n",
    "get_mctruths = ev.getValidHandle(ROOT.vector(simb.MCTruth))\n",
    "\n",
    "print \"Entering event loop...\"\n",
    "while (not ev.atEnd()):\n",
    "    \n",
    "    run[0] = ev.eventAuxiliary().run()\n",
    "    event[0] = ev.eventAuxiliary().event()\n",
    "\n",
    "    mctruths = get_mctruths(mctruths_tag)\n",
    "    if (not mctruths.empty()):\n",
    "        npart_hist.Fill(mctruths.product()[0].NParticles())\n",
    "        index[0] = 0\n",
    "        n_particle[0] = mctruths.product()[0].NParticles()\n",
    "        origin[0] = mctruths.product()[0].Origin()\n",
    "        vtx = mctruths.product()[0].GetNeutrino().Nu().Position()\n",
    "        mctruth_tree.Fill()\n",
    "\n",
    "    ev.next()\n",
    "\n",
    "print \"Writing histograms...\"\n",
    "histfile.cd()\n",
    "histfile.Write()\n",
    "mctruth_tree.Write()"
   ]
  },
  {
   "cell_type": "code",
   "execution_count": null,
   "metadata": {},
   "outputs": [],
   "source": []
  }
 ],
 "metadata": {
  "kernelspec": {
   "display_name": "Python 2",
   "language": "python",
   "name": "python2"
  },
  "language_info": {
   "codemirror_mode": {
    "name": "ipython",
    "version": 2
   },
   "file_extension": ".py",
   "mimetype": "text/x-python",
   "name": "python",
   "nbconvert_exporter": "python",
   "pygments_lexer": "ipython2",
   "version": "2.7.14"
  }
 },
 "nbformat": 4,
 "nbformat_minor": 2
}
