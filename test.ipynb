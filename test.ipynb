{
 "cells": [
  {
   "cell_type": "code",
   "execution_count": 1,
   "metadata": {},
   "outputs": [],
   "source": [
    "import os, sys\n",
    "sys.path.append(\"common/\")\n",
    "from python_tools import *"
   ]
  },
  {
   "cell_type": "code",
   "execution_count": 23,
   "metadata": {},
   "outputs": [],
   "source": [
    "pdgcode = np.array([14,13,2212,2212,111,211,-211])\n",
    "status = np.array([0,1,1,1,1,1,1])\n",
    "ke = np.array([1.0,0.5,0.1,0.1,0.4,0.4,0.4])"
   ]
  },
  {
   "cell_type": "code",
   "execution_count": 26,
   "metadata": {},
   "outputs": [
    {
     "name": "stdout",
     "output_type": "stream",
     "text": [
      "[False  True False False False False False]\n",
      "[False False  True  True False False False]\n",
      "[False False False False False  True  True]\n",
      "[False False False False  True False False]\n",
      "[False False False False  True  True  True]\n"
     ]
    }
   ],
   "source": [
    "is_muon = ((status==1)&(pdgcode==13))\n",
    "is_proton = ((status==1)&(pdgcode==2212)&(ke>0.03))\n",
    "is_pic = ((status==1)&(abs(pdgcode)==211))\n",
    "is_pi0 = ((status==1)&(pdgcode==111))\n",
    "is_pi = ((status==1)&((abs(pdgcode)==211)^(pdgcode==111)))\n",
    "\n",
    "print is_muon\n",
    "print is_proton\n",
    "print is_pic\n",
    "print is_pi0\n",
    "print is_pi"
   ]
  },
  {
   "cell_type": "code",
   "execution_count": 20,
   "metadata": {},
   "outputs": [
    {
     "data": {
      "text/plain": [
       "2"
      ]
     },
     "execution_count": 20,
     "metadata": {},
     "output_type": "execute_result"
    }
   ],
   "source": [
    "is_proton.sum()"
   ]
  },
  {
   "cell_type": "code",
   "execution_count": null,
   "metadata": {},
   "outputs": [],
   "source": []
  }
 ],
 "metadata": {
  "kernelspec": {
   "display_name": "Python 2",
   "language": "python",
   "name": "python2"
  },
  "language_info": {
   "codemirror_mode": {
    "name": "ipython",
    "version": 2
   },
   "file_extension": ".py",
   "mimetype": "text/x-python",
   "name": "python",
   "nbconvert_exporter": "python",
   "pygments_lexer": "ipython2",
   "version": "2.7.10"
  }
 },
 "nbformat": 4,
 "nbformat_minor": 2
}
