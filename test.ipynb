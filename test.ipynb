{
 "cells": [
  {
   "cell_type": "code",
   "execution_count": 1,
   "metadata": {},
   "outputs": [],
   "source": [
    "import os, sys\n",
    "sys.path.append(\"common/\")\n",
    "from python_tools import *"
   ]
  },
  {
   "cell_type": "code",
   "execution_count": 66,
   "metadata": {},
   "outputs": [],
   "source": [
    "def dqdx(dedx,efield=0.5,beta=0.3,alpha=0.93,W=23.6e-6):\n",
    "    return np.log(beta*float(dedx)/efield + alpha)/(beta/efield*W)\n",
    "\n",
    "def dqdx_stepdiv(dedx,n_steps=1):\n",
    "    return n_steps*dqdx(float(dedx)/float(n_steps))\n",
    "\n",
    "def q_per_cm(e,s,efield=0.5,beta=0.3,alpha=0.93,W=23.6e-6):\n",
    "    return np.log(beta*float(e/s)/efield + alpha)/(beta/efield*W)\n",
    "\n",
    "def q_total(e,s):\n",
    "    return s*q_per_cm(e,s)\n",
    "\n",
    "def recomb(dedx,efield=0.5,beta=0.3,alpha=0.93,W=23.6e-6):\n",
    "    Xi = beta*dedx/efield\n",
    "    recomb = np.log(Xi+alpha)/Xi\n",
    "    return recomb\n",
    "\n",
    "def n_electrons(e,s,W=23.6e-6):\n",
    "    return e/W*recomb(e/s)"
   ]
  },
  {
   "cell_type": "code",
   "execution_count": 67,
   "metadata": {},
   "outputs": [
    {
     "name": "stdout",
     "output_type": "stream",
     "text": [
      "115473.56350160157\n",
      "1154735.6350160157\n",
      "115473.56350160156\n"
     ]
    }
   ],
   "source": [
    "print q_per_cm(7,1.0)\n",
    "print q_total(70,10.0)\n",
    "\n",
    "print q_per_cm(7/10.,1.0/10.)\n"
   ]
  },
  {
   "cell_type": "code",
   "execution_count": 68,
   "metadata": {},
   "outputs": [
    {
     "name": "stdout",
     "output_type": "stream",
     "text": [
      "0.26586131129276813\n",
      "0.5579453384427047\n",
      "0.4196449831930396\n",
      "115473.56350160156\n",
      "115473.56350160157\n",
      "115473.56350160157\n"
     ]
    }
   ],
   "source": [
    "print recomb(7,0.25)\n",
    "print recomb(3)\n",
    "print recomb(3,0.25)\n",
    "print n_electrons(7,1.0)\n",
    "print n_electrons(70,10.0)/10.\n",
    "\n",
    "print q_total(7,1.0)\n"
   ]
  },
  {
   "cell_type": "code",
   "execution_count": 5,
   "metadata": {},
   "outputs": [],
   "source": [
    "q_cm_per_mm = dqdx(7/10.)"
   ]
  },
  {
   "cell_type": "code",
   "execution_count": 9,
   "metadata": {},
   "outputs": [
    {
     "data": {
      "text/plain": [
       "-0.1819653675765065"
      ]
     },
     "execution_count": 9,
     "metadata": {},
     "output_type": "execute_result"
    }
   ],
   "source": [
    "(q_cm - q_cm_per_mm*10.)/q_cm"
   ]
  },
  {
   "cell_type": "code",
   "execution_count": null,
   "metadata": {},
   "outputs": [],
   "source": []
  }
 ],
 "metadata": {
  "kernelspec": {
   "display_name": "Python 2",
   "language": "python",
   "name": "python2"
  },
  "language_info": {
   "codemirror_mode": {
    "name": "ipython",
    "version": 2
   },
   "file_extension": ".py",
   "mimetype": "text/x-python",
   "name": "python",
   "nbconvert_exporter": "python",
   "pygments_lexer": "ipython2",
   "version": "2.7.10"
  }
 },
 "nbformat": 4,
 "nbformat_minor": 2
}
