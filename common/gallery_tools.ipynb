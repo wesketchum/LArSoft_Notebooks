{
 "cells": [
  {
   "cell_type": "code",
   "execution_count": 1,
   "metadata": {},
   "outputs": [
    {
     "name": "stdout",
     "output_type": "stream",
     "text": [
      "Welcome to JupyROOT 6.14/04\n"
     ]
    }
   ],
   "source": [
    "import ROOT"
   ]
  },
  {
   "cell_type": "code",
   "execution_count": 2,
   "metadata": {},
   "outputs": [],
   "source": [
    "# Some functions that I find useful to reduce error-prone typing.\n",
    "def read_header(h):\n",
    "        \"\"\"Make the ROOT C++ jit compiler read the specified header.\"\"\"\n",
    "        ROOT.gROOT.ProcessLine('#include \"%s\"' % h)\n",
    "\n",
    "def provide_get_valid_handle(klass):\n",
    "        \"\"\"Make the ROOT C++ jit compiler instantiate the\n",
    "           Event::getValidHandle member template for template\n",
    "           parameter klass.\"\"\"\n",
    "        ROOT.gROOT.ProcessLine('template gallery::ValidHandle<%(name)s> gallery::Event::getValidHandle<%(name)s>(art::InputTag const&) const;' % {'name' : klass})"
   ]
  },
  {
   "cell_type": "code",
   "execution_count": 3,
   "metadata": {},
   "outputs": [
    {
     "name": "stderr",
     "output_type": "stream",
     "text": [
      "\u001b[1minput_line_36:1:10: \u001b[0m\u001b[0;1;31mfatal error: \u001b[0m\u001b[1m'gallery/ValidHandle.h' file not found\u001b[0m\n",
      "#include \"gallery/ValidHandle.h\"\n",
      "\u001b[0;1;32m         ^~~~~~~~~~~~~~~~~~~~~~~\n",
      "\u001b[0m\u001b[1minput_line_37:1:10: \u001b[0m\u001b[0;1;31merror: \u001b[0m\u001b[1muse of undeclared identifier 'gallery'\u001b[0m\n",
      "template gallery::ValidHandle<std::vector<simb::MCTruth>> gallery::Event...\n",
      "\u001b[0;1;32m         ^\n",
      "\u001b[0m\u001b[1minput_line_37:1:43: \u001b[0m\u001b[0;1;31merror: \u001b[0m\u001b[1muse of undeclared identifier 'simb'\u001b[0m\n",
      "template gallery::ValidHandle<std::vector<simb::MCTruth>> gallery::Event...\n",
      "\u001b[0;1;32m                                          ^\n",
      "\u001b[0m\u001b[1minput_line_37:1:145: \u001b[0m\u001b[0;1;31merror: \u001b[0m\u001b[1mexpected a type\u001b[0m\n",
      "  ...const&) const;\n",
      "\u001b[0;1;32m                  ^\n",
      "\u001b[0m\u001b[1minput_line_38:1:10: \u001b[0m\u001b[0;1;31merror: \u001b[0m\u001b[1muse of undeclared identifier 'gallery'\u001b[0m\n",
      "template gallery::ValidHandle<std::vector<raw::OpDetWaveform>> gallery::...\n",
      "\u001b[0;1;32m         ^\n",
      "\u001b[0m\u001b[1minput_line_38:1:43: \u001b[0m\u001b[0;1;31merror: \u001b[0m\u001b[1muse of undeclared identifier 'raw'\u001b[0m\n",
      "template gallery::ValidHandle<std::vector<raw::OpDetWaveform>> gallery::...\n",
      "\u001b[0;1;32m                                          ^\n",
      "\u001b[0m\u001b[1minput_line_38:1:155: \u001b[0m\u001b[0;1;31merror: \u001b[0m\u001b[1mexpected a type\u001b[0m\n",
      "  ...const&) const;\n",
      "\u001b[0;1;32m                  ^\n",
      "\u001b[0m\u001b[1minput_line_39:1:10: \u001b[0m\u001b[0;1;31merror: \u001b[0m\u001b[1muse of undeclared identifier 'gallery'\u001b[0m\n",
      "template gallery::ValidHandle<std::vector<sim::MCTrack>> gallery::Event:...\n",
      "\u001b[0;1;32m         ^\n",
      "\u001b[0m\u001b[1minput_line_39:1:43: \u001b[0m\u001b[0;1;31merror: \u001b[0m\u001b[1muse of undeclared identifier 'sim'\u001b[0m\n",
      "template gallery::ValidHandle<std::vector<sim::MCTrack>> gallery::Event:...\n",
      "\u001b[0;1;32m                                          ^\n",
      "\u001b[0m\u001b[1minput_line_39:1:143: \u001b[0m\u001b[0;1;31merror: \u001b[0m\u001b[1mexpected a type\u001b[0m\n",
      "  ...const&) const;\n",
      "\u001b[0;1;32m                  ^\n",
      "\u001b[0m"
     ]
    }
   ],
   "source": [
    "read_header('gallery/ValidHandle.h')\n",
    "provide_get_valid_handle('std::vector<simb::MCTruth>')\n",
    "provide_get_valid_handle('std::vector<raw::OpDetWaveform>')\n",
    "provide_get_valid_handle('std::vector<sim::MCTrack>')"
   ]
  },
  {
   "cell_type": "code",
   "execution_count": null,
   "metadata": {},
   "outputs": [],
   "source": []
  }
 ],
 "metadata": {
  "kernelspec": {
   "display_name": "Python 2",
   "language": "python",
   "name": "python2"
  },
  "language_info": {
   "codemirror_mode": {
    "name": "ipython",
    "version": 2
   },
   "file_extension": ".py",
   "mimetype": "text/x-python",
   "name": "python",
   "nbconvert_exporter": "python",
   "pygments_lexer": "ipython2",
   "version": "2.7.10"
  }
 },
 "nbformat": 4,
 "nbformat_minor": 2
}
