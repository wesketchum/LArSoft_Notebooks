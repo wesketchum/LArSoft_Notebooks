{
 "cells": [
  {
   "cell_type": "code",
   "execution_count": 1,
   "metadata": {},
   "outputs": [
    {
     "name": "stdout",
     "output_type": "stream",
     "text": [
      "Welcome to JupyROOT 6.12/06\n"
     ]
    }
   ],
   "source": [
    "import ROOT"
   ]
  },
  {
   "cell_type": "code",
   "execution_count": 2,
   "metadata": {},
   "outputs": [],
   "source": [
    "# Some functions that I find useful to reduce error-prone typing.\n",
    "def read_header(h):\n",
    "        \"\"\"Make the ROOT C++ jit compiler read the specified header.\"\"\"\n",
    "        ROOT.gROOT.ProcessLine('#include \"%s\"' % h)\n",
    "\n",
    "def provide_get_valid_handle(klass):\n",
    "        \"\"\"Make the ROOT C++ jit compiler instantiate the\n",
    "           Event::getValidHandle member template for template\n",
    "           parameter klass.\"\"\"\n",
    "        ROOT.gROOT.ProcessLine('template gallery::ValidHandle<%(name)s> gallery::Event::getValidHandle<%(name)s>(art::InputTag const&) const;' % {'name' : klass})"
   ]
  },
  {
   "cell_type": "code",
   "execution_count": 3,
   "metadata": {},
   "outputs": [],
   "source": [
    "read_header('gallery/ValidHandle.h')\n",
    "provide_get_valid_handle('std::vector<simb::MCTruth>')\n",
    "provide_get_valid_handle('std::vector<raw::OpDetWaveform>')"
   ]
  },
  {
   "cell_type": "code",
   "execution_count": null,
   "metadata": {},
   "outputs": [],
   "source": []
  }
 ],
 "metadata": {
  "kernelspec": {
   "display_name": "Python 2",
   "language": "python",
   "name": "python2"
  },
  "language_info": {
   "codemirror_mode": {
    "name": "ipython",
    "version": 2
   },
   "file_extension": ".py",
   "mimetype": "text/x-python",
   "name": "python",
   "nbconvert_exporter": "python",
   "pygments_lexer": "ipython2",
   "version": "2.7.14"
  }
 },
 "nbformat": 4,
 "nbformat_minor": 2
}
