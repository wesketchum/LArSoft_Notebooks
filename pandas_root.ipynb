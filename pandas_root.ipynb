{
 "cells": [
  {
   "cell_type": "code",
   "execution_count": 1,
   "metadata": {},
   "outputs": [],
   "source": [
    "import os, sys\n",
    "sys.path.append(\"common/\")\n",
    "from python_tools import *"
   ]
  },
  {
   "cell_type": "code",
   "execution_count": 2,
   "metadata": {},
   "outputs": [
    {
     "name": "stdout",
     "output_type": "stream",
     "text": [
      "CPU times: user 3 µs, sys: 3 µs, total: 6 µs\n",
      "Wall time: 5.96 µs\n"
     ]
    }
   ],
   "source": [
    "%time\n",
    "\n",
    "hdf5_filename = \"/Users/wketchum/MicroBooNE_Data/genie_studies/genie_uboone_1M_simple.hdf5\"\n",
    "t_df = pd.read_hdf(hdf5_filename,\"t_df\")\n",
    "p_df = pd.read_hdf(hdf5_filename,\"p_df\")"
   ]
  },
  {
   "cell_type": "code",
   "execution_count": 3,
   "metadata": {},
   "outputs": [
    {
     "name": "stdout",
     "output_type": "stream",
     "text": [
      "Writing /Users/wketchum/MicroBooNE_Data/genie_studies/test_compression_0.hdf5\n"
     ]
    },
    {
     "name": "stderr",
     "output_type": "stream",
     "text": [
      "/Library/Python/2.7/site-packages/pandas/io/pytables.py:279: PerformanceWarning: \n",
      "your performance may suffer as PyTables will pickle object types that it cannot\n",
      "map directly to c-types [inferred_type->unicode,key->axis0] [items->None]\n",
      "\n",
      "  f(store)\n",
      "/Library/Python/2.7/site-packages/pandas/io/pytables.py:279: PerformanceWarning: \n",
      "your performance may suffer as PyTables will pickle object types that it cannot\n",
      "map directly to c-types [inferred_type->unicode,key->block0_items] [items->None]\n",
      "\n",
      "  f(store)\n",
      "/Library/Python/2.7/site-packages/pandas/io/pytables.py:279: PerformanceWarning: \n",
      "your performance may suffer as PyTables will pickle object types that it cannot\n",
      "map directly to c-types [inferred_type->unicode,key->block1_items] [items->None]\n",
      "\n",
      "  f(store)\n"
     ]
    },
    {
     "name": "stdout",
     "output_type": "stream",
     "text": [
      "CPU times: user 21.8 ms, sys: 92.5 ms, total: 114 ms\n",
      "Wall time: 400 ms\n"
     ]
    },
    {
     "name": "stderr",
     "output_type": "stream",
     "text": [
      "/Library/Python/2.7/site-packages/pandas/io/pytables.py:279: PerformanceWarning: \n",
      "your performance may suffer as PyTables will pickle object types that it cannot\n",
      "map directly to c-types [inferred_type->unicode,key->block2_items] [items->None]\n",
      "\n",
      "  f(store)\n"
     ]
    },
    {
     "name": "stdout",
     "output_type": "stream",
     "text": [
      "CPU times: user 26.8 s, sys: 19.8 s, total: 46.5 s\n",
      "Wall time: 54.5 s\n",
      "Writing /Users/wketchum/MicroBooNE_Data/genie_studies/test_compression_1.hdf5\n",
      "CPU times: user 2.54 s, sys: 83 ms, total: 2.62 s\n",
      "Wall time: 2.69 s\n",
      "CPU times: user 1min 54s, sys: 13.6 s, total: 2min 8s\n",
      "Wall time: 2min 11s\n",
      "Writing /Users/wketchum/MicroBooNE_Data/genie_studies/test_compression_2.hdf5\n",
      "CPU times: user 2.56 s, sys: 76.8 ms, total: 2.64 s\n",
      "Wall time: 2.67 s\n",
      "CPU times: user 2min 4s, sys: 12.4 s, total: 2min 16s\n",
      "Wall time: 2min 19s\n",
      "Writing /Users/wketchum/MicroBooNE_Data/genie_studies/test_compression_3.hdf5\n",
      "CPU times: user 2.74 s, sys: 229 ms, total: 2.97 s\n",
      "Wall time: 2.99 s\n",
      "CPU times: user 2min 16s, sys: 11.9 s, total: 2min 28s\n",
      "Wall time: 2min 31s\n",
      "Writing /Users/wketchum/MicroBooNE_Data/genie_studies/test_compression_4.hdf5\n",
      "CPU times: user 2.89 s, sys: 223 ms, total: 3.12 s\n",
      "Wall time: 3.14 s\n",
      "CPU times: user 2min 24s, sys: 12.3 s, total: 2min 36s\n",
      "Wall time: 2min 40s\n",
      "Writing /Users/wketchum/MicroBooNE_Data/genie_studies/test_compression_5.hdf5\n",
      "CPU times: user 3.16 s, sys: 244 ms, total: 3.41 s\n",
      "Wall time: 3.43 s\n",
      "CPU times: user 2min 48s, sys: 12.9 s, total: 3min 1s\n",
      "Wall time: 3min 4s\n",
      "Writing /Users/wketchum/MicroBooNE_Data/genie_studies/test_compression_6.hdf5\n",
      "CPU times: user 4.02 s, sys: 248 ms, total: 4.27 s\n",
      "Wall time: 4.32 s\n",
      "CPU times: user 3min 19s, sys: 13.2 s, total: 3min 32s\n",
      "Wall time: 3min 36s\n",
      "Writing /Users/wketchum/MicroBooNE_Data/genie_studies/test_compression_7.hdf5\n",
      "CPU times: user 4.8 s, sys: 252 ms, total: 5.05 s\n",
      "Wall time: 5.09 s\n",
      "CPU times: user 3min 55s, sys: 13.8 s, total: 4min 9s\n",
      "Wall time: 4min 13s\n",
      "Writing /Users/wketchum/MicroBooNE_Data/genie_studies/test_compression_8.hdf5\n",
      "CPU times: user 8.95 s, sys: 274 ms, total: 9.22 s\n",
      "Wall time: 9.33 s\n",
      "CPU times: user 8min 22s, sys: 15.8 s, total: 8min 38s\n",
      "Wall time: 8min 45s\n",
      "Writing /Users/wketchum/MicroBooNE_Data/genie_studies/test_compression_9.hdf5\n",
      "CPU times: user 12.7 s, sys: 227 ms, total: 12.9 s\n",
      "Wall time: 13 s\n",
      "CPU times: user 17min 49s, sys: 15.6 s, total: 18min 5s\n",
      "Wall time: 18min 11s\n"
     ]
    }
   ],
   "source": [
    "for compression in range(0,10):\n",
    "    write_name = \"/Users/wketchum/MicroBooNE_Data/genie_studies/test_compression_\"+str(compression)+\".hdf5\"\n",
    "    print \"Writing %s\" % write_name\n",
    "    %time t_df.to_hdf(write_name,\"t_df\",complevel=compression)\n",
    "    %time p_df.to_hdf(write_name,\"p_df\",complevel=compression)"
   ]
  },
  {
   "cell_type": "code",
   "execution_count": null,
   "metadata": {},
   "outputs": [],
   "source": []
  }
 ],
 "metadata": {
  "kernelspec": {
   "display_name": "Python 2",
   "language": "python",
   "name": "python2"
  },
  "language_info": {
   "codemirror_mode": {
    "name": "ipython",
    "version": 2
   },
   "file_extension": ".py",
   "mimetype": "text/x-python",
   "name": "python",
   "nbconvert_exporter": "python",
   "pygments_lexer": "ipython2",
   "version": "2.7.10"
  }
 },
 "nbformat": 4,
 "nbformat_minor": 2
}
