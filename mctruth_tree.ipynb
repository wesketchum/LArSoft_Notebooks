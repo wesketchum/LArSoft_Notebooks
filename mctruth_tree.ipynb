{
 "cells": [
  {
   "cell_type": "code",
   "execution_count": 1,
   "metadata": {},
   "outputs": [
    {
     "name": "stdout",
     "output_type": "stream",
     "text": [
      "Welcome to JupyROOT 6.12/06\n"
     ]
    }
   ],
   "source": [
    "import os, sys\n",
    "sys.path.append(\"common/\")\n",
    "\n",
    "from gallery_tools import *"
   ]
  },
  {
   "cell_type": "code",
   "execution_count": 2,
   "metadata": {},
   "outputs": [],
   "source": [
    "outfile = ROOT.TFile(\"/Users/wketchum/MicroBooNE_Data/genie_studies/genie_uboone_100k_simple.root\", \"RECREATE\")"
   ]
  },
  {
   "cell_type": "code",
   "execution_count": 3,
   "metadata": {},
   "outputs": [
    {
     "data": {
      "text/plain": [
       "<ROOT.TBranch object (\"end_e\") at 0x125e2d270>"
      ]
     },
     "execution_count": 3,
     "metadata": {},
     "output_type": "execute_result"
    }
   ],
   "source": [
    "run = array('I',[ 0 ])\n",
    "event = array('I',[ 0 ])\n",
    "\n",
    "truth_index = array('I',[ 0 ])\n",
    "n_particles = array('i',[-1])\n",
    "origin = array('i',[-1])\n",
    "\n",
    "mode = array('i',[-1])\n",
    "interaction_type = array('i',[-1])\n",
    "ccnc = array('i',[-1])\n",
    "target = array('i',[-1])\n",
    "hit_nucl = array('i',[-1])\n",
    "hit_quark = array('i',[-1])\n",
    "hadronic_mass = array('d',[-99999])\n",
    "interaction_x = array('d',[-99999])\n",
    "interaction_y = array('d',[-99999])\n",
    "interaction_q2 = array('d',[-99999])\n",
    "interaction_pt = array('d',[-99999])\n",
    "interaction_theta = array('d',[-99999])\n",
    "\n",
    "p_index = array('I',[ 0 ])\n",
    "status = array('i',[-1])\n",
    "trackid = array('i',[-1])\n",
    "pdgcode = array('i',[-1])\n",
    "mother = array('i',[-1])\n",
    "process = ROOT.string()\n",
    "endprocess = ROOT.string()\n",
    "#daughters = ROOT.vector('int')()\n",
    "weight = array('d',[-999])\n",
    "rescatter = array('i',[-1])\n",
    "\n",
    "start_x = array('d',[-99999])\n",
    "start_y = array('d',[-99999])\n",
    "start_z = array('d',[-99999])\n",
    "start_t = array('d',[-99999])\n",
    "\n",
    "end_x = array('d',[-99999])\n",
    "end_y = array('d',[-99999])\n",
    "end_z = array('d',[-99999])\n",
    "end_t = array('d',[-99999])\n",
    "\n",
    "px = array('d',[-99999])\n",
    "py = array('d',[-99999])\n",
    "pz = array('d',[-99999])\n",
    "p = array('d',[-99999])\n",
    "pt = array('d',[-99999])\n",
    "e = array('d',[-99999])\n",
    "mass = array('d',[-999])\n",
    "\n",
    "end_px = array('d',[-99999])\n",
    "end_py = array('d',[-99999])\n",
    "end_pz = array('d',[-99999])\n",
    "end_e = array('d',[-99999])\n",
    "\n",
    "\n",
    "mctruth_tree = ROOT.TTree(\"mctruth_tree\",\"MCTruth Tree\")\n",
    "mctruth_tree.Branch(\"run\",run,\"run/i\")\n",
    "mctruth_tree.Branch(\"event\",event,\"event/i\")\n",
    "mctruth_tree.Branch('truth_index',truth_index,\"truth_index/i\")\n",
    "mctruth_tree.Branch('n_particles',n_particles,\"n_particles/I\")\n",
    "mctruth_tree.Branch('origin',origin,\"origin/I\")\n",
    "mctruth_tree.Branch('mode',mode,\"mode/I\")\n",
    "mctruth_tree.Branch('interaction_type',interaction_type,\"interaction_type/I\")\n",
    "mctruth_tree.Branch('ccnc',ccnc,\"ccnc/I\")\n",
    "mctruth_tree.Branch('target',target,\"target/I\")\n",
    "mctruth_tree.Branch('hit_nucl',hit_nucl,\"hit_nucl/I\")\n",
    "mctruth_tree.Branch('hit_quark',hit_quark,\"hit_quark/I\")\n",
    "mctruth_tree.Branch('hadronic_mass',hadronic_mass,\"hadronic_mass/D\")\n",
    "mctruth_tree.Branch('interaction_x',interaction_x,\"interaction_x/D\")\n",
    "mctruth_tree.Branch('interaction_y',interaction_y,\"interaction_y/D\")\n",
    "mctruth_tree.Branch('interaction_q2',interaction_q2,\"interaction_q2/D\")\n",
    "mctruth_tree.Branch('interaction_pt',interaction_pt,\"interaction_pt/D\")\n",
    "mctruth_tree.Branch('interaction_theta',interaction_theta,\"interaction_theta/D\")\n",
    "\n",
    "particle_tree = ROOT.TTree(\"particle_tree\",\"MCParticle Tree\")\n",
    "particle_tree.Branch(\"run\",run,\"run/i\")\n",
    "particle_tree.Branch(\"event\",event,\"event/i\")\n",
    "particle_tree.Branch('truth_index',truth_index,\"truth_index/i\")\n",
    "particle_tree.Branch('p_index',p_index,\"p_index/i\")\n",
    "particle_tree.Branch('status',status,\"status/I\")\n",
    "particle_tree.Branch('trackid',trackid,\"trackid/I\")\n",
    "particle_tree.Branch('pdgcode',pdgcode,\"pdgcode/I\")\n",
    "particle_tree.Branch('mother',mother,\"mother/I\")\n",
    "particle_tree.Branch('process',process)\n",
    "particle_tree.Branch('endprocess',endprocess)\n",
    "#particle_tree.Branch('daughters',daughters)\n",
    "particle_tree.Branch('weight',weight,\"weight/D\")\n",
    "particle_tree.Branch('rescatter',rescatter,\"rescatter/I\")\n",
    "\n",
    "particle_tree.Branch('start_x',start_x,\"start_x/D\")\n",
    "particle_tree.Branch('start_y',start_y,\"start_y/D\")\n",
    "particle_tree.Branch('start_z',start_z,\"start_z/D\")\n",
    "particle_tree.Branch('start_t',start_t,\"start_t/D\")\n",
    "\n",
    "particle_tree.Branch('end_x',end_x,\"end_x/D\")\n",
    "particle_tree.Branch('end_y',end_y,\"end_y/D\")\n",
    "particle_tree.Branch('end_z',end_z,\"end_z/D\")\n",
    "particle_tree.Branch('end_t',end_t,\"end_t/D\")\n",
    "\n",
    "particle_tree.Branch('px',px,\"px/D\")\n",
    "particle_tree.Branch('py',py,\"py/D\")\n",
    "particle_tree.Branch('pz',pz,\"pz/D\")\n",
    "particle_tree.Branch('p',p,\"p/D\")\n",
    "particle_tree.Branch('pt',pt,\"pt/D\")\n",
    "particle_tree.Branch('e',e,\"e/D\")\n",
    "particle_tree.Branch('mass',mass,\"mass/D\")\n",
    "\n",
    "particle_tree.Branch('end_px',end_px,\"end_px/D\")\n",
    "particle_tree.Branch('end_py',end_py,\"end_py/D\")\n",
    "particle_tree.Branch('end_pz',end_pz,\"end_pz/D\")\n",
    "particle_tree.Branch('end_e',end_e,\"end_e/D\")"
   ]
  },
  {
   "cell_type": "code",
   "execution_count": 4,
   "metadata": {},
   "outputs": [],
   "source": [
    "def fill_mcparticle_info(part):\n",
    "    status[0] = part.StatusCode()\n",
    "    trackid[0] = part.TrackId()\n",
    "    pdgcode[0] = part.PdgCode()\n",
    "    mother[0] = part.Mother()\n",
    "    \n",
    "    process.replace(0,ROOT.string.npos, part.Process())\n",
    "    endprocess.replace(0,ROOT.string.npos, part.EndProcess())\n",
    "    \n",
    "    #daughters.resize(part.NumberDaughters())\n",
    "    #for i in range(0,daughters.size()):\n",
    "    #    daughters[i] = part.Daughter(i)\n",
    "    \n",
    "    weight[0] = part.Weight()\n",
    "    rescatter[0] = part.Rescatter()\n",
    "    \n",
    "    start_x[0] = part.Vx()\n",
    "    start_y[0] = part.Vy()\n",
    "    start_z[0] = part.Vz()\n",
    "    start_t[0] = part.T()\n",
    "    \n",
    "    end_x[0] = part.EndX()\n",
    "    end_y[0] = part.EndY()\n",
    "    end_z[0] = part.EndZ()\n",
    "    end_t[0] = part.EndT()\n",
    "    \n",
    "    px[0] = part.Px()\n",
    "    py[0] = part.Py()\n",
    "    pz[0] = part.Pz()\n",
    "    p[0] = part.P()\n",
    "    pt[0] = part.Pt()\n",
    "    e[0] = part.E()\n",
    "    mass[0] = part.Mass()\n",
    "    \n",
    "    end_px[0] = part.EndPx()\n",
    "    end_py[0] = part.EndPy()\n",
    "    end_pz[0] = part.EndPz()\n",
    "    end_e[0] = part.EndE()\n",
    "    \n",
    "def fill_mctruth_info(truth):\n",
    "    n_particles[0] = truth.NParticles()\n",
    "    origin[0] = truth.Origin()\n",
    "    \n",
    "    nu = truth.GetNeutrino()\n",
    "    mode[0] = nu.Mode()\n",
    "    interaction_type[0] = nu.InteractionType()\n",
    "    ccnc[0] = nu.CCNC()\n",
    "    target[0] = nu.Target()\n",
    "    hit_nucl[0] = nu.HitNuc()\n",
    "    hit_quark[0] = nu.HitQuark()\n",
    "    hadronic_mass[0] = nu.W()\n",
    "    interaction_x[0] = nu.X()\n",
    "    interaction_y[0] = nu.Y()\n",
    "    interaction_q2[0] = nu.QSqr()\n",
    "    interaction_pt[0] = nu.Pt()\n",
    "    interaction_theta[0] = nu.Theta()\n",
    "    \n",
    "def fill_event_info(ev):\n",
    "    run[0] = ev.eventAuxiliary().run()\n",
    "    event[0] = ev.eventAuxiliary().event()"
   ]
  },
  {
   "cell_type": "code",
   "execution_count": 5,
   "metadata": {},
   "outputs": [
    {
     "name": "stdout",
     "output_type": "stream",
     "text": [
      "Successfully opened file /Users/wketchum/MicroBooNE_Data/genie_studies/genie_uboone_100k.root\n",
      "Closing file, read 118221840 bytes in 1172 transactions\n"
     ]
    },
    {
     "name": "stderr",
     "output_type": "stream",
     "text": [
      "%MSG-d ProductID: \n",
      "Product created with id: [3130632973] from canonical product name: \"simb::MCTruths_generator__GenieGen.\"\n",
      "%MSG\n"
     ]
    }
   ],
   "source": [
    "mctruths_tag = art.InputTag(\"generator\");\n",
    "filename = \"/Users/wketchum/MicroBooNE_Data/genie_studies/genie_uboone_100k.root\"\n",
    "filenames = ROOT.vector(ROOT.string)(1,filename)\n",
    "ev = gallery.Event(filenames)\n",
    "\n",
    "get_mctruths = ev.getValidHandle(ROOT.vector(simb.MCTruth))\n",
    "\n",
    "while (not ev.atEnd()):\n",
    "    fill_event_info(ev)\n",
    "    \n",
    "    mctruths = get_mctruths(mctruths_tag)\n",
    "    for i_t in range(0,mctruths.size()):\n",
    "        truth_index[0] = i_t\n",
    "        fill_mctruth_info(mctruths.product()[i_t])\n",
    "        mctruth_tree.Fill()\n",
    "        \n",
    "        for i_p in range(0,n_particles[0]):\n",
    "            p_index[0] = i_p\n",
    "            fill_mcparticle_info(mctruths.product()[i_t].GetParticle(i_p))\n",
    "            particle_tree.Fill()\n",
    "\n",
    "    ev.next()"
   ]
  },
  {
   "cell_type": "code",
   "execution_count": 6,
   "metadata": {},
   "outputs": [],
   "source": [
    "outfile.cd()\n",
    "mctruth_tree.Write()\n",
    "particle_tree.Write()\n",
    "outfile.Close()"
   ]
  },
  {
   "cell_type": "code",
   "execution_count": null,
   "metadata": {},
   "outputs": [],
   "source": []
  }
 ],
 "metadata": {
  "kernelspec": {
   "display_name": "Python 2",
   "language": "python",
   "name": "python2"
  },
  "language_info": {
   "codemirror_mode": {
    "name": "ipython",
    "version": 2
   },
   "file_extension": ".py",
   "mimetype": "text/x-python",
   "name": "python",
   "nbconvert_exporter": "python",
   "pygments_lexer": "ipython2",
   "version": "2.7.14"
  }
 },
 "nbformat": 4,
 "nbformat_minor": 2
}
